{
 "cells": [
  {
   "cell_type": "code",
   "execution_count": 5,
   "id": "682f25ff",
   "metadata": {},
   "outputs": [],
   "source": [
    "import os\n",
    "from faceAnalizer import FaceAnalizer\n",
    "import numpy as np\n",
    "import matplotlib.pyplot as plt\n",
    "import cv2\n",
    "import plotly.graph_objects as go\n",
    "from handAnalizer import HandAnalizer"
   ]
  },
  {
   "cell_type": "code",
   "execution_count": 6,
   "id": "9cc7f932",
   "metadata": {},
   "outputs": [],
   "source": [
    "img = cv2.imread('./reference_image.jpg')\n",
    "\n",
    "video_link = './video4.mp4'"
   ]
  },
  {
   "cell_type": "markdown",
   "id": "670f8de6",
   "metadata": {},
   "source": [
    "## Display Video"
   ]
  },
  {
   "cell_type": "code",
   "execution_count": null,
   "id": "463a5597",
   "metadata": {},
   "outputs": [
    {
     "data": {
      "application/vnd.jupyter.widget-view+json": {
       "model_id": "fc596b02d9134c6588e675777c436b15",
       "version_major": 2,
       "version_minor": 0
      },
      "text/plain": [
       "Output()"
      ]
     },
     "metadata": {},
     "output_type": "display_data"
    }
   ],
   "source": [
    "from ipywebrtc import VideoStream, ImageRenderer\n",
    "from IPython.display import display\n",
    "\n",
    "video_capture = cv2.VideoCapture(video_link)\n",
    "\n",
    "# Create a video stream from the OpenCV capture\n",
    "video_stream = VideoStream.from_capture(video_capture)\n",
    "\n",
    "# Create an image renderer for video playback\n",
    "renderer = ImageRenderer()\n",
    "\n",
    "# Display the video renderer\n",
    "display(renderer)\n",
    "\n",
    "# Link the video stream to the image renderer\n",
    "video_stream.link(renderer)\n",
    "\n",
    "# Wait until the video playback finishes\n",
    "video_stream.wait()\n",
    "\n",
    "video_capture.release()\n",
    "cv2.destroyAllWindows()\n"
   ]
  },
  {
   "cell_type": "markdown",
   "id": "2a07ba73",
   "metadata": {},
   "source": [
    "## Gesfacexp Score "
   ]
  },
  {
   "cell_type": "code",
   "execution_count": 5,
   "id": "ff7a752b",
   "metadata": {},
   "outputs": [
    {
     "name": "stderr",
     "output_type": "stream",
     "text": [
      "  5%|███▌                                                                           | 6/133 [00:06<02:22,  1.12s/frame]"
     ]
    },
    {
     "ename": "KeyboardInterrupt",
     "evalue": "",
     "output_type": "error",
     "traceback": [
      "\u001b[1;31m---------------------------------------------------------------------------\u001b[0m",
      "\u001b[1;31mKeyboardInterrupt\u001b[0m                         Traceback (most recent call last)",
      "Cell \u001b[1;32mIn[5], line 3\u001b[0m\n\u001b[0;32m      1\u001b[0m face_analizer \u001b[38;5;241m=\u001b[39m FaceAnalizer()\n\u001b[1;32m----> 3\u001b[0m ges_fac_exp_score \u001b[38;5;241m=\u001b[39m  \u001b[43mface_analizer\u001b[49m\u001b[38;5;241;43m.\u001b[39;49m\u001b[43mgesfacexp_score\u001b[49m\u001b[43m(\u001b[49m\u001b[43mreference_image\u001b[49m\u001b[38;5;241;43m=\u001b[39;49m\u001b[43mimg\u001b[49m\u001b[43m,\u001b[49m\u001b[43m \u001b[49m\u001b[43mvideo_path\u001b[49m\u001b[38;5;241;43m=\u001b[39;49m\u001b[43mvideo_link\u001b[49m\u001b[43m,\u001b[49m\u001b[43m \u001b[49m\u001b[43mfps\u001b[49m\u001b[43m \u001b[49m\u001b[38;5;241;43m=\u001b[39;49m\u001b[43m \u001b[49m\u001b[38;5;241;43m1\u001b[39;49m\u001b[43m)\u001b[49m\n",
      "File \u001b[1;32mD:\\Image Processing Final Project\\Module1\\faceAnalizer.py:156\u001b[0m, in \u001b[0;36mFaceAnalizer.gesfacexp_score\u001b[1;34m(self, reference_image, video_path, fps)\u001b[0m\n\u001b[0;32m    154\u001b[0m \u001b[38;5;66;03m# Readable Control  \u001b[39;00m\n\u001b[0;32m    155\u001b[0m \u001b[38;5;28;01mif\u001b[39;00m \u001b[38;5;28mself\u001b[39m\u001b[38;5;241m.\u001b[39mreadable(frame):\n\u001b[1;32m--> 156\u001b[0m     eye_results_mean, lips_results_mean, eyebrow_results_mean \u001b[38;5;241m=\u001b[39m \u001b[38;5;28;43mself\u001b[39;49m\u001b[38;5;241;43m.\u001b[39;49m\u001b[43mget_mean_multiple\u001b[49m\u001b[43m(\u001b[49m\u001b[43mframe\u001b[49m\u001b[43m)\u001b[49m\n\u001b[0;32m    158\u001b[0m     \u001b[38;5;28;01mif\u001b[39;00m np\u001b[38;5;241m.\u001b[39mshape(eye_results_mean)[\u001b[38;5;241m0\u001b[39m] \u001b[38;5;241m!=\u001b[39m \u001b[38;5;241m0\u001b[39m:\n\u001b[0;32m    159\u001b[0m         total_gesfac_scores[\u001b[38;5;124m'\u001b[39m\u001b[38;5;124meye\u001b[39m\u001b[38;5;124m'\u001b[39m]\u001b[38;5;241m.\u001b[39mappend(eye_results_mean)\n",
      "File \u001b[1;32mD:\\Image Processing Final Project\\Module1\\faceAnalizer.py:232\u001b[0m, in \u001b[0;36mFaceAnalizer.get_mean_multiple\u001b[1;34m(self, image)\u001b[0m\n\u001b[0;32m    230\u001b[0m _, __, eye_results \u001b[38;5;241m=\u001b[39m \u001b[38;5;28mself\u001b[39m\u001b[38;5;241m.\u001b[39mdetect(frame\u001b[38;5;241m=\u001b[39mimage, part_name\u001b[38;5;241m=\u001b[39m\u001b[38;5;124m'\u001b[39m\u001b[38;5;124meye\u001b[39m\u001b[38;5;124m'\u001b[39m)\n\u001b[0;32m    231\u001b[0m _, __, lips_results \u001b[38;5;241m=\u001b[39m \u001b[38;5;28mself\u001b[39m\u001b[38;5;241m.\u001b[39mdetect(frame\u001b[38;5;241m=\u001b[39mimage, part_name\u001b[38;5;241m=\u001b[39m\u001b[38;5;124m'\u001b[39m\u001b[38;5;124mlips\u001b[39m\u001b[38;5;124m'\u001b[39m)\n\u001b[1;32m--> 232\u001b[0m _, __, eyebrow_results \u001b[38;5;241m=\u001b[39m \u001b[38;5;28;43mself\u001b[39;49m\u001b[38;5;241;43m.\u001b[39;49m\u001b[43mdetect\u001b[49m\u001b[43m(\u001b[49m\u001b[43mframe\u001b[49m\u001b[38;5;241;43m=\u001b[39;49m\u001b[43mimage\u001b[49m\u001b[43m,\u001b[49m\u001b[43m \u001b[49m\u001b[43mpart_name\u001b[49m\u001b[38;5;241;43m=\u001b[39;49m\u001b[38;5;124;43m'\u001b[39;49m\u001b[38;5;124;43meyebrow\u001b[39;49m\u001b[38;5;124;43m'\u001b[39;49m\u001b[43m)\u001b[49m\n\u001b[0;32m    235\u001b[0m eye_results_mean \u001b[38;5;241m=\u001b[39m \u001b[38;5;28mself\u001b[39m\u001b[38;5;241m.\u001b[39mget_mean_single(eye_results)\n\u001b[0;32m    236\u001b[0m lips_results_mean \u001b[38;5;241m=\u001b[39m \u001b[38;5;28mself\u001b[39m\u001b[38;5;241m.\u001b[39mget_mean_single(lips_results)\n",
      "File \u001b[1;32mD:\\Image Processing Final Project\\Module1\\faceAnalizer.py:109\u001b[0m, in \u001b[0;36mFaceAnalizer.detect\u001b[1;34m(self, frame, part_name)\u001b[0m\n\u001b[0;32m    106\u001b[0m     sit, drawn_image, results \u001b[38;5;241m=\u001b[39m \u001b[38;5;28mself\u001b[39m\u001b[38;5;241m.\u001b[39mdraw(concatenated_array, frame)\n\u001b[0;32m    108\u001b[0m \u001b[38;5;28;01melse\u001b[39;00m:\n\u001b[1;32m--> 109\u001b[0m     sit, drawn_image, results \u001b[38;5;241m=\u001b[39m \u001b[38;5;28;43mself\u001b[39;49m\u001b[38;5;241;43m.\u001b[39;49m\u001b[43mdraw\u001b[49m\u001b[43m(\u001b[49m\u001b[38;5;28;43mself\u001b[39;49m\u001b[38;5;241;43m.\u001b[39;49m\u001b[43mlandmarks_coords\u001b[49m\u001b[43m[\u001b[49m\u001b[43mpart_name\u001b[49m\u001b[43m]\u001b[49m\u001b[43m,\u001b[49m\u001b[43m \u001b[49m\u001b[43mframe\u001b[49m\u001b[43m)\u001b[49m\n\u001b[0;32m    112\u001b[0m \u001b[38;5;28;01mreturn\u001b[39;00m sit, drawn_image, results\n",
      "File \u001b[1;32mD:\\Image Processing Final Project\\Module1\\faceAnalizer.py:67\u001b[0m, in \u001b[0;36mFaceAnalizer.draw\u001b[1;34m(self, part_values, frame)\u001b[0m\n\u001b[0;32m     64\u001b[0m \u001b[38;5;28;01mwith\u001b[39;00m \u001b[38;5;28mself\u001b[39m\u001b[38;5;241m.\u001b[39mmap_face_mesh\u001b[38;5;241m.\u001b[39mFaceMesh(min_detection_confidence \u001b[38;5;241m=\u001b[39m \u001b[38;5;241m0.5\u001b[39m, min_tracking_confidence \u001b[38;5;241m=\u001b[39m \u001b[38;5;241m0.5\u001b[39m) \u001b[38;5;28;01mas\u001b[39;00m face_mesh:\n\u001b[0;32m     66\u001b[0m     \u001b[38;5;28;01mtry\u001b[39;00m:\n\u001b[1;32m---> 67\u001b[0m         results \u001b[38;5;241m=\u001b[39m \u001b[43mface_mesh\u001b[49m\u001b[38;5;241;43m.\u001b[39;49m\u001b[43mprocess\u001b[49m\u001b[43m(\u001b[49m\u001b[43mframe\u001b[49m\u001b[43m)\u001b[49m\n\u001b[0;32m     69\u001b[0m     \u001b[38;5;28;01mexcept\u001b[39;00m \u001b[38;5;167;01mAttributeError\u001b[39;00m:\n\u001b[0;32m     70\u001b[0m         \u001b[38;5;28;01mreturn\u001b[39;00m \u001b[38;5;28;01mFalse\u001b[39;00m,\u001b[38;5;124m\"\u001b[39m\u001b[38;5;124m\"\u001b[39m,\u001b[38;5;124m\"\u001b[39m\u001b[38;5;124m\"\u001b[39m\n",
      "File \u001b[1;32mc:\\users\\200601014\\appdata\\local\\programs\\python\\python38\\lib\\site-packages\\mediapipe\\python\\solutions\\face_mesh.py:124\u001b[0m, in \u001b[0;36mFaceMesh.process\u001b[1;34m(self, image)\u001b[0m\n\u001b[0;32m    109\u001b[0m \u001b[38;5;28;01mdef\u001b[39;00m \u001b[38;5;21mprocess\u001b[39m(\u001b[38;5;28mself\u001b[39m, image: np\u001b[38;5;241m.\u001b[39mndarray) \u001b[38;5;241m-\u001b[39m\u001b[38;5;241m>\u001b[39m NamedTuple:\n\u001b[0;32m    110\u001b[0m \u001b[38;5;250m  \u001b[39m\u001b[38;5;124;03m\"\"\"Processes an RGB image and returns the face landmarks on each detected face.\u001b[39;00m\n\u001b[0;32m    111\u001b[0m \n\u001b[0;32m    112\u001b[0m \u001b[38;5;124;03m  Args:\u001b[39;00m\n\u001b[1;32m   (...)\u001b[0m\n\u001b[0;32m    121\u001b[0m \u001b[38;5;124;03m    face landmarks on each detected face.\u001b[39;00m\n\u001b[0;32m    122\u001b[0m \u001b[38;5;124;03m  \"\"\"\u001b[39;00m\n\u001b[1;32m--> 124\u001b[0m   \u001b[38;5;28;01mreturn\u001b[39;00m \u001b[38;5;28;43msuper\u001b[39;49m\u001b[43m(\u001b[49m\u001b[43m)\u001b[49m\u001b[38;5;241;43m.\u001b[39;49m\u001b[43mprocess\u001b[49m\u001b[43m(\u001b[49m\u001b[43minput_data\u001b[49m\u001b[38;5;241;43m=\u001b[39;49m\u001b[43m{\u001b[49m\u001b[38;5;124;43m'\u001b[39;49m\u001b[38;5;124;43mimage\u001b[39;49m\u001b[38;5;124;43m'\u001b[39;49m\u001b[43m:\u001b[49m\u001b[43m \u001b[49m\u001b[43mimage\u001b[49m\u001b[43m}\u001b[49m\u001b[43m)\u001b[49m\n",
      "File \u001b[1;32mc:\\users\\200601014\\appdata\\local\\programs\\python\\python38\\lib\\site-packages\\mediapipe\\python\\solution_base.py:365\u001b[0m, in \u001b[0;36mSolutionBase.process\u001b[1;34m(self, input_data)\u001b[0m\n\u001b[0;32m    359\u001b[0m   \u001b[38;5;28;01melse\u001b[39;00m:\n\u001b[0;32m    360\u001b[0m     \u001b[38;5;28mself\u001b[39m\u001b[38;5;241m.\u001b[39m_graph\u001b[38;5;241m.\u001b[39madd_packet_to_input_stream(\n\u001b[0;32m    361\u001b[0m         stream\u001b[38;5;241m=\u001b[39mstream_name,\n\u001b[0;32m    362\u001b[0m         packet\u001b[38;5;241m=\u001b[39m\u001b[38;5;28mself\u001b[39m\u001b[38;5;241m.\u001b[39m_make_packet(input_stream_type,\n\u001b[0;32m    363\u001b[0m                                  data)\u001b[38;5;241m.\u001b[39mat(\u001b[38;5;28mself\u001b[39m\u001b[38;5;241m.\u001b[39m_simulated_timestamp))\n\u001b[1;32m--> 365\u001b[0m \u001b[38;5;28;43mself\u001b[39;49m\u001b[38;5;241;43m.\u001b[39;49m\u001b[43m_graph\u001b[49m\u001b[38;5;241;43m.\u001b[39;49m\u001b[43mwait_until_idle\u001b[49m\u001b[43m(\u001b[49m\u001b[43m)\u001b[49m\n\u001b[0;32m    366\u001b[0m \u001b[38;5;66;03m# Create a NamedTuple object where the field names are mapping to the graph\u001b[39;00m\n\u001b[0;32m    367\u001b[0m \u001b[38;5;66;03m# output stream names.\u001b[39;00m\n\u001b[0;32m    368\u001b[0m solution_outputs \u001b[38;5;241m=\u001b[39m collections\u001b[38;5;241m.\u001b[39mnamedtuple(\n\u001b[0;32m    369\u001b[0m     \u001b[38;5;124m'\u001b[39m\u001b[38;5;124mSolutionOutputs\u001b[39m\u001b[38;5;124m'\u001b[39m, \u001b[38;5;28mself\u001b[39m\u001b[38;5;241m.\u001b[39m_output_stream_type_info\u001b[38;5;241m.\u001b[39mkeys())\n",
      "\u001b[1;31mKeyboardInterrupt\u001b[0m: "
     ]
    }
   ],
   "source": [
    "face_analizer = FaceAnalizer()\n",
    "\n",
    "ges_fac_exp_score =  face_analizer.gesfacexp_score(reference_image=img, video_path=video_link, fps = 1)\n"
   ]
  },
  {
   "cell_type": "code",
   "execution_count": null,
   "id": "9e0bfdbe",
   "metadata": {},
   "outputs": [],
   "source": [
    "print(\"Score\", ges_fac_exp_score)"
   ]
  },
  {
   "cell_type": "code",
   "execution_count": null,
   "id": "21a2348e",
   "metadata": {},
   "outputs": [],
   "source": [
    "def ges_fac_exp_pie_plot(eye_value, lips_value, eyebrow_value):\n",
    "    # Create a pie chart\n",
    "    fig = go.Figure(data=[go.Pie(\n",
    "        labels=['Eye', 'Lips', 'Eyebrow'],\n",
    "        values=[eye_value, lips_value, eyebrow_value],\n",
    "        hole=0.6,\n",
    "        marker=dict(colors=['#ff7f0e', '#1f77b4', '#2ca02c']),\n",
    "        hoverinfo='label+percent'\n",
    "    )])\n",
    "\n",
    "    # Update layout\n",
    "    fig.update_layout(\n",
    "        title='GesFacExp Score Distribution',\n",
    "        annotations=[dict(text='Total', x=0.5, y=0.5, font_size=20, showarrow=False)]\n",
    "    )\n",
    "\n",
    "    # Show the plot\n",
    "    fig.show()\n",
    "    \n",
    "    \n",
    "ges_fac_exp_pie_plot(ges_fac_exp_score[\"eye\"], ges_fac_exp_score[\"lips\"], ges_fac_exp_score[\"eyebrow\"])"
   ]
  },
  {
   "cell_type": "markdown",
   "id": "207ce3dd",
   "metadata": {},
   "source": [
    "## Hand Score "
   ]
  },
  {
   "cell_type": "code",
   "execution_count": 3,
   "id": "623e553d",
   "metadata": {},
   "outputs": [
    {
     "name": "stderr",
     "output_type": "stream",
     "text": [
      "134frame [02:18,  1.03s/frame]                                                                                         \n"
     ]
    },
    {
     "name": "stdout",
     "output_type": "stream",
     "text": [
      "{'hand_score': 0.0, 'frame_ratio': 0.0, 'average_dist_change': 0}\n"
     ]
    }
   ],
   "source": [
    "handAnalizer = HandAnalizer()\n",
    "\n",
    "result = handAnalizer.get_hand_score(video_link, fps = 1)\n",
    "\n",
    "print(result)"
   ]
  },
  {
   "cell_type": "code",
   "execution_count": 4,
   "id": "0f133398",
   "metadata": {},
   "outputs": [
    {
     "data": {
      "text/plain": [
       "{'hand_score': 0.0, 'frame_ratio': 0.0, 'average_dist_change': 0}"
      ]
     },
     "execution_count": 4,
     "metadata": {},
     "output_type": "execute_result"
    }
   ],
   "source": [
    "result"
   ]
  },
  {
   "cell_type": "code",
   "execution_count": null,
   "id": "c3feac6d",
   "metadata": {},
   "outputs": [],
   "source": []
  }
 ],
 "metadata": {
  "kernelspec": {
   "display_name": "Python 3 (ipykernel)",
   "language": "python",
   "name": "python3"
  },
  "language_info": {
   "codemirror_mode": {
    "name": "ipython",
    "version": 3
   },
   "file_extension": ".py",
   "mimetype": "text/x-python",
   "name": "python",
   "nbconvert_exporter": "python",
   "pygments_lexer": "ipython3",
   "version": "3.8.10"
  }
 },
 "nbformat": 4,
 "nbformat_minor": 5
}
